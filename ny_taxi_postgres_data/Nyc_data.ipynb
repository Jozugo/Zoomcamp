{
 "cells": [
  {
   "cell_type": "code",
   "execution_count": 8,
   "id": "68c011aa-b372-41d1-8dc2-45fe3395909e",
   "metadata": {},
   "outputs": [],
   "source": [
    "import pandas as pd\n",
    "import gzip\n",
    "\n",
    "file_path = 'yellow_tripdata_2021-01.csv'\n",
    "\n",
    "# Open the file, decompress it, and read the first 100 rows\n",
    "with gzip.open(file_path, 'rt', encoding='utf-8') as f:\n",
    "    df = pd.read_csv(f, nrows=100)\n",
    "\n",
    "# Now df contains the first 100 rows of your CSV file\n"
   ]
  }
 ],
 "metadata": {
  "kernelspec": {
   "display_name": "Python 3 (ipykernel)",
   "language": "python",
   "name": "python3"
  },
  "language_info": {
   "codemirror_mode": {
    "name": "ipython",
    "version": 3
   },
   "file_extension": ".py",
   "mimetype": "text/x-python",
   "name": "python",
   "nbconvert_exporter": "python",
   "pygments_lexer": "ipython3",
   "version": "3.10.13"
  }
 },
 "nbformat": 4,
 "nbformat_minor": 5
}
