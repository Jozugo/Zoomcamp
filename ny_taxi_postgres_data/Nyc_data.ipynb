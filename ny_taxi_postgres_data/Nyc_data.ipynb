{
 "cells": [
  {
   "cell_type": "code",
   "execution_count": null,
   "id": "68c011aa-b372-41d1-8dc2-45fe3395909e",
   "metadata": {},
   "outputs": [],
   "source": [
    "import pandas as pd\n",
    "import gzip\n",
    "\n",
    "file_path = 'yellow_tripdata_2021-01.csv'\n",
    "\n",
    "# Open the file, decompress it, and read the first 100 rows\n",
    "with gzip.open(file_path, 'rt', encoding='utf-8') as f:\n",
    "    df = pd.read_csv(f, nrows=100)\n",
    "\n",
    "df\n",
    "\n",
    "# Now df contains the first 100 rows of your CSV file\n"
   ]
  },
  {
   "cell_type": "code",
   "execution_count": 6,
   "id": "2e230d35",
   "metadata": {},
   "outputs": [
    {
     "data": {
      "text/plain": [
       "0    2021-01-01 00:30:10\n",
       "1    2021-01-01 00:51:20\n",
       "2    2021-01-01 00:43:30\n",
       "3    2021-01-01 00:15:48\n",
       "4    2021-01-01 00:31:49\n",
       "             ...        \n",
       "95   2021-01-01 00:12:41\n",
       "96   2021-01-01 00:23:29\n",
       "97   2021-01-01 00:46:17\n",
       "98   2021-01-01 00:28:16\n",
       "99   2021-01-01 00:42:35\n",
       "Name: tpep_pickup_datetime, Length: 100, dtype: datetime64[ns]"
      ]
     },
     "execution_count": 6,
     "metadata": {},
     "output_type": "execute_result"
    }
   ],
   "source": [
    "pd.to_datetime(df.tpep_pickup_datetime)"
   ]
  },
  {
   "cell_type": "code",
   "execution_count": 7,
   "id": "be8e8f0a",
   "metadata": {},
   "outputs": [
    {
     "name": "stdout",
     "output_type": "stream",
     "text": [
      "CREATE TABLE \"yellow_head\" (\n",
      "\"VendorID\" INTEGER,\n",
      "  \"tpep_pickup_datetime\" TEXT,\n",
      "  \"tpep_dropoff_datetime\" TEXT,\n",
      "  \"passenger_count\" INTEGER,\n",
      "  \"trip_distance\" REAL,\n",
      "  \"RatecodeID\" INTEGER,\n",
      "  \"store_and_fwd_flag\" TEXT,\n",
      "  \"PULocationID\" INTEGER,\n",
      "  \"DOLocationID\" INTEGER,\n",
      "  \"payment_type\" INTEGER,\n",
      "  \"fare_amount\" REAL,\n",
      "  \"extra\" REAL,\n",
      "  \"mta_tax\" REAL,\n",
      "  \"tip_amount\" REAL,\n",
      "  \"tolls_amount\" REAL,\n",
      "  \"improvement_surcharge\" REAL,\n",
      "  \"total_amount\" REAL,\n",
      "  \"congestion_surcharge\" REAL\n",
      ")\n"
     ]
    }
   ],
   "source": [
    "print(pd.io.sql.get_schema(df, name='yellow_taxi_data'))"
   ]
  }
 ],
 "metadata": {
  "kernelspec": {
   "display_name": "Python 3 (ipykernel)",
   "language": "python",
   "name": "python3"
  },
  "language_info": {
   "codemirror_mode": {
    "name": "ipython",
    "version": 3
   },
   "file_extension": ".py",
   "mimetype": "text/x-python",
   "name": "python",
   "nbconvert_exporter": "python",
   "pygments_lexer": "ipython3",
   "version": "3.10.13"
  }
 },
 "nbformat": 4,
 "nbformat_minor": 5
}
